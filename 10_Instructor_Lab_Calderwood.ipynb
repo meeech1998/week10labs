{
 "cells": [
  {
   "cell_type": "markdown",
   "id": "b1d781d3-8e3e-4904-9c5f-b482bc8b7360",
   "metadata": {},
   "source": [
    "# Week 10 Instructor-led Lab: Data Reduction\n",
    "\n",
    "#### Michelle Calderwood | April 2025 | BGEN 632"
   ]
  },
  {
   "cell_type": "code",
   "execution_count": 20,
   "id": "28241b23-62d1-4d17-9f26-e4d79545f464",
   "metadata": {},
   "outputs": [],
   "source": [
    "# Install new libraries if needed\n",
    "# !pip install factor_analyzer\n",
    "# !pip install graphviz\n",
    "\n",
    "# Import modules\n",
    "import pandas as pd\n",
    "import numpy as np\n",
    "import matplotlib.pyplot as plt\n",
    "from sklearn.decomposition import PCA\n",
    "from sklearn.cluster import KMeans\n",
    "from sklearn import metrics as metcs"
   ]
  },
  {
   "cell_type": "code",
   "execution_count": 40,
   "id": "bf6107a2-5bec-48d0-90d1-58d78c906bb4",
   "metadata": {},
   "outputs": [
    {
     "data": {
      "text/html": [
       "<div>\n",
       "<style scoped>\n",
       "    .dataframe tbody tr th:only-of-type {\n",
       "        vertical-align: middle;\n",
       "    }\n",
       "\n",
       "    .dataframe tbody tr th {\n",
       "        vertical-align: top;\n",
       "    }\n",
       "\n",
       "    .dataframe thead th {\n",
       "        text-align: right;\n",
       "    }\n",
       "</style>\n",
       "<table border=\"1\" class=\"dataframe\">\n",
       "  <thead>\n",
       "    <tr style=\"text-align: right;\">\n",
       "      <th></th>\n",
       "      <th>HospitalID</th>\n",
       "      <th>Name</th>\n",
       "      <th>Zip</th>\n",
       "      <th>Website</th>\n",
       "      <th>TypeControl</th>\n",
       "      <th>Teaching</th>\n",
       "      <th>DonorType</th>\n",
       "      <th>NoFTE</th>\n",
       "      <th>NetPatRev</th>\n",
       "      <th>InOperExp</th>\n",
       "      <th>...</th>\n",
       "      <th>AvlBeds</th>\n",
       "      <th>Work_ID</th>\n",
       "      <th>LastName</th>\n",
       "      <th>FirstName</th>\n",
       "      <th>Gender</th>\n",
       "      <th>PositionID</th>\n",
       "      <th>PositionTitle</th>\n",
       "      <th>Compensation</th>\n",
       "      <th>MaxTerm</th>\n",
       "      <th>StartDate</th>\n",
       "    </tr>\n",
       "  </thead>\n",
       "  <tbody>\n",
       "    <tr>\n",
       "      <th>0</th>\n",
       "      <td>45740</td>\n",
       "      <td>Mammoth Hospital</td>\n",
       "      <td>93546-0660</td>\n",
       "      <td>www.mammothhospital.com</td>\n",
       "      <td>District</td>\n",
       "      <td>Small/Rural</td>\n",
       "      <td>Charity</td>\n",
       "      <td>327.0</td>\n",
       "      <td>135520.2186</td>\n",
       "      <td>20523425.53</td>\n",
       "      <td>...</td>\n",
       "      <td>15</td>\n",
       "      <td>721586</td>\n",
       "      <td>Web</td>\n",
       "      <td>David</td>\n",
       "      <td>M</td>\n",
       "      <td>4</td>\n",
       "      <td>Safety Inspection Member</td>\n",
       "      <td>23987</td>\n",
       "      <td>2</td>\n",
       "      <td>1/1/2012</td>\n",
       "    </tr>\n",
       "    <tr>\n",
       "      <th>1</th>\n",
       "      <td>12145</td>\n",
       "      <td>Victor Valley Community Hospital</td>\n",
       "      <td>92392</td>\n",
       "      <td>www.vvch.org</td>\n",
       "      <td>Non Profit</td>\n",
       "      <td>Small/Rural</td>\n",
       "      <td>Charity</td>\n",
       "      <td>345.0</td>\n",
       "      <td>136156.6913</td>\n",
       "      <td>33447542.78</td>\n",
       "      <td>...</td>\n",
       "      <td>99</td>\n",
       "      <td>756481</td>\n",
       "      <td>Rodriguez</td>\n",
       "      <td>Jose</td>\n",
       "      <td>M</td>\n",
       "      <td>1</td>\n",
       "      <td>Regional Representative</td>\n",
       "      <td>46978</td>\n",
       "      <td>4</td>\n",
       "      <td>1/1/2009</td>\n",
       "    </tr>\n",
       "    <tr>\n",
       "      <th>2</th>\n",
       "      <td>25667</td>\n",
       "      <td>Pioneers Memorial Hospital</td>\n",
       "      <td>92227</td>\n",
       "      <td>www.pmhd.org</td>\n",
       "      <td>District</td>\n",
       "      <td>Small/Rural</td>\n",
       "      <td>Charity</td>\n",
       "      <td>601.2</td>\n",
       "      <td>197094.2541</td>\n",
       "      <td>37254178.67</td>\n",
       "      <td>...</td>\n",
       "      <td>107</td>\n",
       "      <td>926378</td>\n",
       "      <td>Adamson</td>\n",
       "      <td>David</td>\n",
       "      <td>M</td>\n",
       "      <td>1</td>\n",
       "      <td>Regional Representative</td>\n",
       "      <td>46978</td>\n",
       "      <td>4</td>\n",
       "      <td>1/1/2012</td>\n",
       "    </tr>\n",
       "    <tr>\n",
       "      <th>3</th>\n",
       "      <td>46996</td>\n",
       "      <td>Ridgecrest Regional Hospital</td>\n",
       "      <td>93555</td>\n",
       "      <td>www.rrh.org</td>\n",
       "      <td>Non Profit</td>\n",
       "      <td>Small/Rural</td>\n",
       "      <td>Charity</td>\n",
       "      <td>400.0</td>\n",
       "      <td>139170.3798</td>\n",
       "      <td>23385570.10</td>\n",
       "      <td>...</td>\n",
       "      <td>55</td>\n",
       "      <td>856720</td>\n",
       "      <td>Roberts</td>\n",
       "      <td>Melissa</td>\n",
       "      <td>F</td>\n",
       "      <td>4</td>\n",
       "      <td>Safety Inspection Member</td>\n",
       "      <td>23987</td>\n",
       "      <td>2</td>\n",
       "      <td>1/1/2009</td>\n",
       "    </tr>\n",
       "    <tr>\n",
       "      <th>4</th>\n",
       "      <td>37393</td>\n",
       "      <td>Barstow Community Hospital</td>\n",
       "      <td>92311</td>\n",
       "      <td>www.barstowhospital.com</td>\n",
       "      <td>Investor</td>\n",
       "      <td>Small/Rural</td>\n",
       "      <td>Charity</td>\n",
       "      <td>262.0</td>\n",
       "      <td>116797.8306</td>\n",
       "      <td>13684502.49</td>\n",
       "      <td>...</td>\n",
       "      <td>42</td>\n",
       "      <td>909709</td>\n",
       "      <td>Iwata</td>\n",
       "      <td>Akira</td>\n",
       "      <td>M</td>\n",
       "      <td>1</td>\n",
       "      <td>Regional Representative</td>\n",
       "      <td>46978</td>\n",
       "      <td>4</td>\n",
       "      <td>1/1/2011</td>\n",
       "    </tr>\n",
       "  </tbody>\n",
       "</table>\n",
       "<p>5 rows × 23 columns</p>\n",
       "</div>"
      ],
      "text/plain": [
       "   HospitalID                              Name         Zip  \\\n",
       "0       45740                  Mammoth Hospital  93546-0660   \n",
       "1       12145  Victor Valley Community Hospital       92392   \n",
       "2       25667        Pioneers Memorial Hospital       92227   \n",
       "3       46996      Ridgecrest Regional Hospital       93555   \n",
       "4       37393        Barstow Community Hospital       92311   \n",
       "\n",
       "                   Website TypeControl     Teaching DonorType  NoFTE  \\\n",
       "0  www.mammothhospital.com    District  Small/Rural   Charity  327.0   \n",
       "1             www.vvch.org  Non Profit  Small/Rural   Charity  345.0   \n",
       "2             www.pmhd.org    District  Small/Rural   Charity  601.2   \n",
       "3              www.rrh.org  Non Profit  Small/Rural   Charity  400.0   \n",
       "4  www.barstowhospital.com    Investor  Small/Rural   Charity  262.0   \n",
       "\n",
       "     NetPatRev    InOperExp  ...  AvlBeds  Work_ID   LastName  FirstName  \\\n",
       "0  135520.2186  20523425.53  ...       15   721586        Web      David   \n",
       "1  136156.6913  33447542.78  ...       99   756481  Rodriguez       Jose   \n",
       "2  197094.2541  37254178.67  ...      107   926378    Adamson      David   \n",
       "3  139170.3798  23385570.10  ...       55   856720    Roberts    Melissa   \n",
       "4  116797.8306  13684502.49  ...       42   909709      Iwata      Akira   \n",
       "\n",
       "   Gender PositionID             PositionTitle Compensation  MaxTerm StartDate  \n",
       "0       M          4  Safety Inspection Member        23987        2  1/1/2012  \n",
       "1       M          1   Regional Representative        46978        4  1/1/2009  \n",
       "2       M          1   Regional Representative        46978        4  1/1/2012  \n",
       "3       F          4  Safety Inspection Member        23987        2  1/1/2009  \n",
       "4       M          1   Regional Representative        46978        4  1/1/2011  \n",
       "\n",
       "[5 rows x 23 columns]"
      ]
     },
     "execution_count": 40,
     "metadata": {},
     "output_type": "execute_result"
    }
   ],
   "source": [
    "# Load the hospital dataset\n",
    "hospital_df = pd.read_csv('/Users/michellecalderwood/Documents/GitHub/week10labs/data/calihospital.txt', delimiter='\\t')\n",
    "hospital_df.head()"
   ]
  },
  {
   "cell_type": "markdown",
   "id": "8bf4a1c3-f3c2-4bee-813b-65363798f971",
   "metadata": {},
   "source": [
    "#### Step 1: Prepare the Data"
   ]
  },
  {
   "cell_type": "code",
   "execution_count": 43,
   "id": "ecbc791c-e104-406f-91cd-5638783acac7",
   "metadata": {},
   "outputs": [
    {
     "data": {
      "text/plain": [
       "NoFTE         0\n",
       "NetPatRev     0\n",
       "InOperExp     0\n",
       "OutOperExp    0\n",
       "OperRev       0\n",
       "OperInc       0\n",
       "AvlBeds       0\n",
       "dtype: int64"
      ]
     },
     "execution_count": 43,
     "metadata": {},
     "output_type": "execute_result"
    }
   ],
   "source": [
    "# Select only the 7 numerical hospital columns\n",
    "hospital_num = hospital_df[['NoFTE', 'NetPatRev', 'InOperExp', 'OutOperExp', 'OperRev', 'OperInc', 'AvlBeds']]\n",
    "\n",
    "# Check for missing values\n",
    "hospital_num.isnull().sum()"
   ]
  },
  {
   "cell_type": "markdown",
   "id": "b90c633a-ab70-4f57-a1cb-716f377bd321",
   "metadata": {},
   "source": [
    "#### Step 2: Standardize the data"
   ]
  },
  {
   "cell_type": "code",
   "execution_count": 45,
   "id": "00ee0e75-21ca-4a8b-afad-693e7533d2ad",
   "metadata": {},
   "outputs": [],
   "source": [
    "from sklearn.preprocessing import StandardScaler\n",
    "\n",
    "# Scale the data for PCA\n",
    "scaler = StandardScaler()\n",
    "hospital_scaled = scaler.fit_transform(hospital_num)"
   ]
  },
  {
   "cell_type": "markdown",
   "id": "8acc1d35-38c3-4100-9868-c8261ba2b945",
   "metadata": {},
   "source": [
    "#### Step 3: Run PCA"
   ]
  },
  {
   "cell_type": "code",
   "execution_count": 47,
   "id": "468aa212-66d6-4432-b1ad-8eaa42bea01d",
   "metadata": {},
   "outputs": [
    {
     "name": "stdout",
     "output_type": "stream",
     "text": [
      "[5.72134563e+00 1.07657967e+00 1.91383827e-01 9.31699632e-02\n",
      " 3.29143500e-02 1.27322677e-03 5.91419821e-22]\n"
     ]
    }
   ],
   "source": [
    "# Run PCA\n",
    "pca = PCA()\n",
    "pca.fit(hospital_scaled)\n",
    "\n",
    "# Get eigenvalues\n",
    "eigenvalues = pca.explained_variance_\n",
    "print(eigenvalues)"
   ]
  },
  {
   "cell_type": "markdown",
   "id": "b21b23d8-811d-40f6-ae9f-1f86bc4522d2",
   "metadata": {},
   "source": [
    " #### Interpretation: How many variables should you keep based on eigenvalues?"
   ]
  },
  {
   "cell_type": "markdown",
   "id": "cf1e8ad0-f35d-4237-9ca6-b04a681070fa",
   "metadata": {},
   "source": [
    "Keep 3 variables. The first three components have eigenvalues significantly greater than 1 and account for the majority of variance. After the third component, the eigenvalues drop off sharply, indicating diminishing returns in added explanatory power."
   ]
  },
  {
   "cell_type": "markdown",
   "id": "0cdc9b3e-7944-46ad-b146-04c14e641628",
   "metadata": {},
   "source": [
    "#### Step 4: Scree Plot"
   ]
  },
  {
   "cell_type": "code",
   "execution_count": 49,
   "id": "e158d066-1bce-4d4f-8671-bbb3140ce710",
   "metadata": {},
   "outputs": [
    {
     "data": {
      "image/png": "[encoded data removed]",
      "text/plain": [
       "<Figure size 800x500 with 1 Axes>"
      ]
     },
     "metadata": {},
     "output_type": "display_data"
    }
   ],
   "source": [
    "# Create scree plot\n",
    "plt.figure(figsize=(8,5))\n",
    "plt.plot(np.cumsum(pca.explained_variance_ratio_), marker='o')\n",
    "plt.xlabel('Number of Components')\n",
    "plt.ylabel('Cumulative Explained Variance')\n",
    "plt.title('Scree Plot')\n",
    "plt.grid(True)\n",
    "plt.show()"
   ]
  },
  {
   "cell_type": "markdown",
   "id": "bfe860d7-374d-40cb-bfcb-af74dcbbb304",
   "metadata": {},
   "source": [
    "#### Interpretation: How many variables should you keep based on scree plot?"
   ]
  },
  {
   "cell_type": "markdown",
   "id": "e77babf9-71db-42cf-97e2-8e0641db4b10",
   "metadata": {},
   "source": [
    "The scree plot also supports keeping 3 components. The elbow in the curve appears at the third point, meaning that adding more components after that adds very little new information. This visually confirms our eigenvalue-based decision."
   ]
  },
  {
   "cell_type": "markdown",
   "id": "078fc30d-421d-4ba5-9dd1-2b83c4ed5aa9",
   "metadata": {},
   "source": [
    "#### Clustering: K-Means"
   ]
  },
  {
   "cell_type": "markdown",
   "id": "c42b56b4-17d9-44c8-983f-fa5ea0957517",
   "metadata": {},
   "source": [
    "##### Step 1: Choose k and Fit Model"
   ]
  },
  {
   "cell_type": "code",
   "execution_count": 51,
   "id": "9db4f294-5b80-40d0-9533-4169a639f42d",
   "metadata": {},
   "outputs": [
    {
     "data": {
      "text/html": [
       "<div>\n",
       "<style scoped>\n",
       "    .dataframe tbody tr th:only-of-type {\n",
       "        vertical-align: middle;\n",
       "    }\n",
       "\n",
       "    .dataframe tbody tr th {\n",
       "        vertical-align: top;\n",
       "    }\n",
       "\n",
       "    .dataframe thead th {\n",
       "        text-align: right;\n",
       "    }\n",
       "</style>\n",
       "<table border=\"1\" class=\"dataframe\">\n",
       "  <thead>\n",
       "    <tr style=\"text-align: right;\">\n",
       "      <th></th>\n",
       "      <th>Name</th>\n",
       "      <th>Cluster</th>\n",
       "    </tr>\n",
       "  </thead>\n",
       "  <tbody>\n",
       "    <tr>\n",
       "      <th>0</th>\n",
       "      <td>Mammoth Hospital</td>\n",
       "      <td>0</td>\n",
       "    </tr>\n",
       "    <tr>\n",
       "      <th>1</th>\n",
       "      <td>Victor Valley Community Hospital</td>\n",
       "      <td>0</td>\n",
       "    </tr>\n",
       "    <tr>\n",
       "      <th>2</th>\n",
       "      <td>Pioneers Memorial Hospital</td>\n",
       "      <td>0</td>\n",
       "    </tr>\n",
       "    <tr>\n",
       "      <th>3</th>\n",
       "      <td>Ridgecrest Regional Hospital</td>\n",
       "      <td>0</td>\n",
       "    </tr>\n",
       "    <tr>\n",
       "      <th>4</th>\n",
       "      <td>Barstow Community Hospital</td>\n",
       "      <td>0</td>\n",
       "    </tr>\n",
       "  </tbody>\n",
       "</table>\n",
       "</div>"
      ],
      "text/plain": [
       "                               Name  Cluster\n",
       "0                  Mammoth Hospital        0\n",
       "1  Victor Valley Community Hospital        0\n",
       "2        Pioneers Memorial Hospital        0\n",
       "3      Ridgecrest Regional Hospital        0\n",
       "4        Barstow Community Hospital        0"
      ]
     },
     "execution_count": 51,
     "metadata": {},
     "output_type": "execute_result"
    }
   ],
   "source": [
    "# Assume you initially pick k = 3 (example — you can adjust later)\n",
    "k = 3\n",
    "kmeans = KMeans(n_clusters=k, random_state=42)\n",
    "hospital_clusters = kmeans.fit_predict(hospital_scaled)\n",
    "\n",
    "# Add the cluster assignments back to the dataframe\n",
    "hospital_df['Cluster'] = hospital_clusters\n",
    "hospital_df[['Name', 'Cluster']].head()"
   ]
  },
  {
   "cell_type": "markdown",
   "id": "08f7a5de-0546-4869-82a5-072b2a814d21",
   "metadata": {},
   "source": [
    "##### Justification: Why did you pick this k?"
   ]
  },
  {
   "cell_type": "markdown",
   "id": "ce41f009-caed-4c43-8808-72201407b939",
   "metadata": {},
   "source": [
    "We picked k = 3 because the scree plot shows a clear “elbow” at 3 components, meaning most of the variance in the data is captured by the first 3 clusters. This makes 3 a natural choice for simplifying our data while keeping meaningful patterns."
   ]
  },
  {
   "cell_type": "markdown",
   "id": "4144fb82-4404-482f-9a73-65d5f7729945",
   "metadata": {},
   "source": [
    "##### Step 2: Confusion Matrices with Categorical Variables"
   ]
  },
  {
   "cell_type": "code",
   "execution_count": 70,
   "id": "35ee87fc-a99f-4bcd-a005-9fc772f54536",
   "metadata": {},
   "outputs": [
    {
     "name": "stdout",
     "output_type": "stream",
     "text": [
      "Teaching vs Cluster\n",
      "[[ 0  0  0  0  0]\n",
      " [ 0  0  0  0  0]\n",
      " [ 0  0  0  0  0]\n",
      " [44  0  0  0  0]\n",
      " [ 2  3 12  0  0]]\n",
      "\n",
      "TypeControl vs Cluster\n",
      "[[ 0  0  0  0  0  0  0]\n",
      " [ 0  0  0  0  0  0  0]\n",
      " [ 0  0  0  0  0  0  0]\n",
      " [ 2  0  5  0  0  0  0]\n",
      " [14  0  0  0  0  0  0]\n",
      " [ 3  0  0  0  0  0  0]\n",
      " [27  3  7  0  0  0  0]]\n",
      "\n",
      "DonorType vs Cluster\n",
      "[[ 0  0  0  0  0]\n",
      " [ 0  0  0  0  0]\n",
      " [ 0  0  0  0  0]\n",
      " [ 2  3 12  0  0]\n",
      " [44  0  0  0  0]]\n"
     ]
    }
   ],
   "source": [
    "from sklearn.metrics import confusion_matrix\n",
    "\n",
    "hospital_df['Teaching'] = hospital_df['Teaching'].astype(str)\n",
    "hospital_df['Cluster'] = hospital_df['Cluster'].astype(str)\n",
    "\n",
    "# Teaching vs Clusters\n",
    "print(\"Teaching vs Cluster\")\n",
    "print(confusion_matrix(hospital_df['Teaching'], hospital_df['Cluster']))\n",
    "\n",
    "# TypeControl vs Clusters\n",
    "print(\"\\nTypeControl vs Cluster\")\n",
    "print(confusion_matrix(hospital_df['TypeControl'].astype(str), hospital_df['Cluster']))\n",
    "\n",
    "# DonorType vs Clusters\n",
    "print(\"\\nDonorType vs Cluster\")\n",
    "print(confusion_matrix(hospital_df['DonorType'].astype(str), hospital_df['Cluster']))"
   ]
  },
  {
   "cell_type": "markdown",
   "id": "b19cad1b-344c-4cff-bfe5-927e1707b17e",
   "metadata": {},
   "source": [
    "##### Interpretation: Which categorical variable fits best? Why?"
   ]
  },
  {
   "cell_type": "markdown",
   "id": "c8fa5454-d2aa-480e-a9ea-a00e8c85c3f3",
   "metadata": {},
   "source": [
    "Teaching fits best. In the confusion matrix, the Teaching variable shows distinct and meaningful separation across cluster groups, with more concentrated values in specific rows and columns. This suggests that the cluster assignments align more strongly with the Teaching classification than with TypeControl or DonorType, which are more evenly or sparsely distributed across clusters."
   ]
  },
  {
   "cell_type": "markdown",
   "id": "58ef0f03-0b24-4ed4-9ddc-040fd2d2aea4",
   "metadata": {},
   "source": [
    "#### Conclusion"
   ]
  },
  {
   "cell_type": "markdown",
   "id": "8f675af4-41d6-415a-a1ca-e0b5f79e200d",
   "metadata": {},
   "source": [
    "Through PCA and clustering analysis, we identified that the optimal number of clusters is three, supported by both the eigenvalue rule and scree plot. Among the categorical variables analyzed, Teaching showed the strongest alignment with the clustering results, suggesting that teaching status plays a significant role in differentiating hospital types in this dataset. This implies that future hospital segmentation or resource allocation models may benefit from incorporating Teaching status as a key variable."
   ]
  },
  {
   "cell_type": "markdown",
   "id": "8b361778-fc81-4d11-82dc-5eae90f69ee2",
   "metadata": {},
   "source": [
    "#### References"
   ]
  },
  {
   "cell_type": "markdown",
   "id": "42a9a0fc-7ee5-4de6-b9fb-2db942f5ac3b",
   "metadata": {},
   "source": [
    "[10_ChatGPT_Instructor.ipynb](10_ChatGPT_Instructor.ipynb)"
   ]
  }
 ],
 "metadata": {
  "kernelspec": {
   "display_name": "Python [conda env:base] *",
   "language": "python",
   "name": "conda-base-py"
  },
  "language_info": {
   "codemirror_mode": {
    "name": "ipython",
    "version": 3
   },
   "file_extension": ".py",
   "mimetype": "text/x-python",
   "name": "python",
   "nbconvert_exporter": "python",
   "pygments_lexer": "ipython3",
   "version": "3.12.7"
  }
 },
 "nbformat": 4,
 "nbformat_minor": 5
}
